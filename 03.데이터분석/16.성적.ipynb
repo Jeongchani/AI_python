{
 "cells": [
  {
   "cell_type": "code",
   "execution_count": 1,
   "id": "f79b675c",
   "metadata": {},
   "outputs": [],
   "source": [
    "import pandas as pd\n",
    "df = pd.read_csv('data/score.csv', index_col='지원번호')\n",
    "df_score= df.loc[:, '국어':'사회']\n",
    "df_score.to_csv('data/학생성적.csv')"
   ]
  },
  {
   "cell_type": "code",
   "execution_count": 2,
   "id": "dd6b3705",
   "metadata": {},
   "outputs": [],
   "source": [
    "df = pd.read_csv('data/학생성적.csv')\n",
    "df['지원번호']=df['지원번호'].str.replace('번', '')\n",
    "df['지원번호']=df['지원번호'].apply(lambda x:int(x))"
   ]
  },
  {
   "cell_type": "code",
   "execution_count": 3,
   "id": "fbb0c91f",
   "metadata": {},
   "outputs": [],
   "source": [
    "df.to_csv('data/학생성적.csv', index=False)"
   ]
  },
  {
   "cell_type": "code",
   "execution_count": 13,
   "id": "90aaa1e9",
   "metadata": {},
   "outputs": [
    {
     "data": {
      "text/plain": [
       "['지원번호', '국어', '영어', '수학', '과학', '사회']"
      ]
     },
     "execution_count": 13,
     "metadata": {},
     "output_type": "execute_result"
    }
   ],
   "source": [
    "score = pd.read_csv('data/학생성적.csv')\n",
    "cols=list(score.columns)\n",
    "cols"
   ]
  },
  {
   "cell_type": "code",
   "execution_count": null,
   "id": "03aab416",
   "metadata": {},
   "outputs": [
    {
     "name": "stdout",
     "output_type": "stream",
     "text": [
      "지원번호:1\n",
      "국어:90\n",
      "영어:85\n",
      "수학:100\n",
      "과학:95\n",
      "사회:85\n",
      "지원번호:2\n",
      "국어:40\n",
      "영어:35\n",
      "수학:50\n",
      "과학:55\n",
      "사회:25\n",
      "지원번호:3\n",
      "국어:80\n",
      "영어:75\n",
      "수학:70\n",
      "과학:80\n",
      "사회:75\n",
      "지원번호:4\n",
      "국어:40\n",
      "영어:60\n",
      "수학:70\n",
      "과학:75\n",
      "사회:80\n",
      "지원번호:5\n",
      "국어:15\n",
      "영어:20\n",
      "수학:10\n",
      "과학:35\n",
      "사회:10\n",
      "지원번호:6\n",
      "국어:80\n",
      "영어:100\n",
      "수학:95\n",
      "과학:85\n",
      "사회:80\n",
      "지원번호:7\n",
      "국어:55\n",
      "영어:65\n",
      "수학:45\n",
      "과학:40\n",
      "사회:35\n",
      "지원번호:8\n",
      "국어:100\n",
      "영어:85\n",
      "수학:90\n",
      "과학:95\n",
      "사회:95\n"
     ]
    }
   ],
   "source": [
    "for idx in range(len(score)):\n",
    "    row = score.loc[idx]\n",
    "    for col in cols:\n",
    "        print(f'{col}:{row[col]}', end=',')\n",
    "    print()"
   ]
  },
  {
   "cell_type": "code",
   "execution_count": null,
   "id": "1fe765af",
   "metadata": {},
   "outputs": [],
   "source": []
  }
 ],
 "metadata": {
  "kernelspec": {
   "display_name": "Python 3",
   "language": "python",
   "name": "python3"
  },
  "language_info": {
   "codemirror_mode": {
    "name": "ipython",
    "version": 3
   },
   "file_extension": ".py",
   "mimetype": "text/x-python",
   "name": "python",
   "nbconvert_exporter": "python",
   "pygments_lexer": "ipython3",
   "version": "3.10.10"
  }
 },
 "nbformat": 4,
 "nbformat_minor": 5
}
