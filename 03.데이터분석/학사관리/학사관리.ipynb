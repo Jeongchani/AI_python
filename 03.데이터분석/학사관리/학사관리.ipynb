{
 "cells": [
  {
   "cell_type": "code",
   "execution_count": 50,
   "id": "1cafe583",
   "metadata": {},
   "outputs": [],
   "source": [
    "import pandas as pd"
   ]
  },
  {
   "cell_type": "code",
   "execution_count": 51,
   "id": "c3b25451",
   "metadata": {},
   "outputs": [
    {
     "data": {
      "text/html": [
       "<div>\n",
       "<style scoped>\n",
       "    .dataframe tbody tr th:only-of-type {\n",
       "        vertical-align: middle;\n",
       "    }\n",
       "\n",
       "    .dataframe tbody tr th {\n",
       "        vertical-align: top;\n",
       "    }\n",
       "\n",
       "    .dataframe thead th {\n",
       "        text-align: right;\n",
       "    }\n",
       "</style>\n",
       "<table border=\"1\" class=\"dataframe\">\n",
       "  <thead>\n",
       "    <tr style=\"text-align: right;\">\n",
       "      <th></th>\n",
       "      <th>교수번호</th>\n",
       "      <th>교수이름</th>\n",
       "      <th>교수학과</th>\n",
       "    </tr>\n",
       "  </thead>\n",
       "  <tbody>\n",
       "    <tr>\n",
       "      <th>0</th>\n",
       "      <td>221</td>\n",
       "      <td>이병렬</td>\n",
       "      <td>전산</td>\n",
       "    </tr>\n",
       "    <tr>\n",
       "      <th>1</th>\n",
       "      <td>228</td>\n",
       "      <td>이재광</td>\n",
       "      <td>전산</td>\n",
       "    </tr>\n",
       "    <tr>\n",
       "      <th>2</th>\n",
       "      <td>311</td>\n",
       "      <td>강승일</td>\n",
       "      <td>전자</td>\n",
       "    </tr>\n",
       "    <tr>\n",
       "      <th>3</th>\n",
       "      <td>509</td>\n",
       "      <td>오문환</td>\n",
       "      <td>건축</td>\n",
       "    </tr>\n",
       "  </tbody>\n",
       "</table>\n",
       "</div>"
      ],
      "text/plain": [
       "   교수번호 교수이름 교수학과\n",
       "0   221  이병렬   전산\n",
       "1   228  이재광   전산\n",
       "2   311  강승일   전자\n",
       "3   509  오문환   건축"
      ]
     },
     "execution_count": 51,
     "metadata": {},
     "output_type": "execute_result"
    }
   ],
   "source": [
    "pro = pd.read_csv('교수.csv', index_col='교수번호')\n",
    "pro2 = pro.copy()\n",
    "pro2.reset_index(inplace=True)\n",
    "pro2=pro2[['교수번호', '교수이름', '교수학과']]\n",
    "pro2"
   ]
  },
  {
   "cell_type": "code",
   "execution_count": 52,
   "id": "c2214f5e",
   "metadata": {},
   "outputs": [
    {
     "data": {
      "text/html": [
       "<div>\n",
       "<style scoped>\n",
       "    .dataframe tbody tr th:only-of-type {\n",
       "        vertical-align: middle;\n",
       "    }\n",
       "\n",
       "    .dataframe tbody tr th {\n",
       "        vertical-align: top;\n",
       "    }\n",
       "\n",
       "    .dataframe thead th {\n",
       "        text-align: right;\n",
       "    }\n",
       "</style>\n",
       "<table border=\"1\" class=\"dataframe\">\n",
       "  <thead>\n",
       "    <tr style=\"text-align: right;\">\n",
       "      <th></th>\n",
       "      <th>학생이름</th>\n",
       "      <th>학생학과</th>\n",
       "      <th>학년</th>\n",
       "      <th>생년월일</th>\n",
       "      <th>지도교수</th>\n",
       "    </tr>\n",
       "    <tr>\n",
       "      <th>학생번호</th>\n",
       "      <th></th>\n",
       "      <th></th>\n",
       "      <th></th>\n",
       "      <th></th>\n",
       "      <th></th>\n",
       "    </tr>\n",
       "  </thead>\n",
       "  <tbody>\n",
       "    <tr>\n",
       "      <th>92414033</th>\n",
       "      <td>김창덕</td>\n",
       "      <td>전산</td>\n",
       "      <td>4</td>\n",
       "      <td>73/10/26</td>\n",
       "      <td>221</td>\n",
       "    </tr>\n",
       "    <tr>\n",
       "      <th>95414058</th>\n",
       "      <td>박혜경</td>\n",
       "      <td>전산</td>\n",
       "      <td>4</td>\n",
       "      <td>76/03/12</td>\n",
       "      <td>221</td>\n",
       "    </tr>\n",
       "  </tbody>\n",
       "</table>\n",
       "</div>"
      ],
      "text/plain": [
       "         학생이름 학생학과  학년      생년월일  지도교수\n",
       "학생번호                                  \n",
       "92414033  김창덕   전산   4  73/10/26   221\n",
       "95414058  박혜경   전산   4  76/03/12   221"
      ]
     },
     "execution_count": 52,
     "metadata": {},
     "output_type": "execute_result"
    }
   ],
   "source": [
    "stu = pd.read_csv('학생.csv', index_col='학생번호')\n",
    "filt = stu['지도교수'] == 221\n",
    "stu[filt]"
   ]
  },
  {
   "cell_type": "code",
   "execution_count": 53,
   "id": "4747bec4",
   "metadata": {},
   "outputs": [
    {
     "data": {
      "text/html": [
       "<div>\n",
       "<style scoped>\n",
       "    .dataframe tbody tr th:only-of-type {\n",
       "        vertical-align: middle;\n",
       "    }\n",
       "\n",
       "    .dataframe tbody tr th {\n",
       "        vertical-align: top;\n",
       "    }\n",
       "\n",
       "    .dataframe thead th {\n",
       "        text-align: right;\n",
       "    }\n",
       "</style>\n",
       "<table border=\"1\" class=\"dataframe\">\n",
       "  <thead>\n",
       "    <tr style=\"text-align: right;\">\n",
       "      <th></th>\n",
       "      <th>학생이름</th>\n",
       "      <th>학생학과</th>\n",
       "      <th>학년</th>\n",
       "      <th>생년월일</th>\n",
       "      <th>지도교수</th>\n",
       "      <th>교수이름</th>\n",
       "      <th>교수학과</th>\n",
       "    </tr>\n",
       "  </thead>\n",
       "  <tbody>\n",
       "    <tr>\n",
       "      <th>0</th>\n",
       "      <td>서연우</td>\n",
       "      <td>전산</td>\n",
       "      <td>3</td>\n",
       "      <td>73/10/06</td>\n",
       "      <td>228</td>\n",
       "      <td>이재광</td>\n",
       "      <td>전산</td>\n",
       "    </tr>\n",
       "    <tr>\n",
       "      <th>7</th>\n",
       "      <td>김수정</td>\n",
       "      <td>전산</td>\n",
       "      <td>3</td>\n",
       "      <td>77/12/22</td>\n",
       "      <td>228</td>\n",
       "      <td>이재광</td>\n",
       "      <td>전산</td>\n",
       "    </tr>\n",
       "  </tbody>\n",
       "</table>\n",
       "</div>"
      ],
      "text/plain": [
       "  학생이름 학생학과  학년      생년월일  지도교수 교수이름 교수학과\n",
       "0  서연우   전산   3  73/10/06   228  이재광   전산\n",
       "7  김수정   전산   3  77/12/22   228  이재광   전산"
      ]
     },
     "execution_count": 53,
     "metadata": {},
     "output_type": "execute_result"
    }
   ],
   "source": [
    "pro_stu = stu.merge(pro2, how='inner', left_on='지도교수', right_on='교수번호')\n",
    "pro_stu.drop(columns='교수번호', inplace=True)\n",
    "pro_stu.groupby('지도교수').get_group(228)"
   ]
  },
  {
   "cell_type": "code",
   "execution_count": 54,
   "id": "aea45d96",
   "metadata": {},
   "outputs": [
    {
     "name": "stdout",
     "output_type": "stream",
     "text": [
      "  학생이름 학생학과  학년      생년월일  지도교수 교수이름 교수학과\n",
      "1  김창덕   전산   4  73/10/26   221  이병렬   전산\n",
      "6  박혜경   전산   4  76/03/12   221  이병렬   전산\n",
      "  학생이름 학생학과  학년      생년월일  지도교수 교수이름 교수학과\n",
      "0  서연우   전산   3  73/10/06   228  이재광   전산\n",
      "7  김수정   전산   3  77/12/22   228  이재광   전산\n",
      "  학생이름 학생학과  학년      생년월일  지도교수 교수이름 교수학과\n",
      "2  이지행   전자   4  73/11/16   311  강승일   전자\n",
      "3  김형명   전자   4  73/08/29   311  강승일   전자\n",
      "  학생이름 학생학과  학년      생년월일  지도교수 교수이름 교수학과\n",
      "4  이원구   건축   3  74/09/30   509  오문환   건축\n",
      "5  이재영   건축   4  76/02/06   509  오문환   건축\n"
     ]
    }
   ],
   "source": [
    "for code in pro.index:\n",
    "    df=pro_stu.groupby('지도교수').get_group(code)\n",
    "    print(df)\n"
   ]
  },
  {
   "cell_type": "code",
   "execution_count": 55,
   "id": "bb0485ca",
   "metadata": {},
   "outputs": [
    {
     "data": {
      "text/plain": [
       "교수이름         이병렬\n",
       "교수학과          전산\n",
       "임용일     75/04/03\n",
       "교수직급         정교수\n",
       "급여       3000000\n",
       "Name: 221, dtype: object"
      ]
     },
     "execution_count": 55,
     "metadata": {},
     "output_type": "execute_result"
    }
   ],
   "source": [
    "pro.loc[221]"
   ]
  },
  {
   "cell_type": "code",
   "execution_count": null,
   "id": "496560cb",
   "metadata": {},
   "outputs": [
    {
     "name": "stdout",
     "output_type": "stream",
     "text": [
      "------------------------------------------------------------\n",
      "교수번호:221 교수이름:이병렬 교수학과:전산\n",
      "학생번호:92414033 학생이름:김창덕 학생학과:전산\n",
      "학생번호:95414058 학생이름:박혜경 학생학과:전산\n",
      "------------------------------------------------------------\n",
      "교수번호:228 교수이름:이재광 교수학과:전산\n",
      "학생번호:92414029 학생이름:서연우 학생학과:전산\n",
      "학생번호:96414404 학생이름:김수정 학생학과:전산\n",
      "------------------------------------------------------------\n",
      "교수번호:311 교수이름:강승일 교수학과:전자\n",
      "학생번호:92514009 학생이름:이지행 학생학과:전자\n",
      "학생번호:92514023 학생이름:김형명 학생학과:전자\n",
      "------------------------------------------------------------\n",
      "교수번호:509 교수이름:오문환 교수학과:건축\n",
      "학생번호:92454018 학생이름:이원구 학생학과:건축\n",
      "학생번호:95454003 학생이름:이재영 학생학과:건축\n"
     ]
    }
   ],
   "source": [
    "#교수별 지도학생 목록\n",
    "for idx in pro.index:\n",
    "    row = pro.loc[idx]\n",
    "    print('-' * 60)\n",
    "    print(f'교수번호:{idx} 교수이름:{row[\"교수이름\"]} 교수학과:{row[\"교수학과\"]}')\n",
    "    filt = stu['지도교수'] == idx\n",
    "    df = stu[filt]\n",
    "    for idx in df.index:\n",
    "        row = df.loc[idx]\n",
    "        print(f'학생번호:{idx} 학생이름:{row[\"학생이름\"]} 학생학과:{row[\"학생학과\"]}')"
   ]
  }
 ],
 "metadata": {
  "kernelspec": {
   "display_name": "Python 3",
   "language": "python",
   "name": "python3"
  },
  "language_info": {
   "codemirror_mode": {
    "name": "ipython",
    "version": 3
   },
   "file_extension": ".py",
   "mimetype": "text/x-python",
   "name": "python",
   "nbconvert_exporter": "python",
   "pygments_lexer": "ipython3",
   "version": "3.10.10"
  }
 },
 "nbformat": 4,
 "nbformat_minor": 5
}
