{
 "cells": [
  {
   "cell_type": "code",
   "execution_count": 1,
   "id": "114db92d",
   "metadata": {},
   "outputs": [],
   "source": [
    "import pandas as pd"
   ]
  },
  {
   "cell_type": "code",
   "execution_count": 2,
   "id": "fbf58d81",
   "metadata": {},
   "outputs": [
    {
     "data": {
      "text/html": [
       "<div>\n",
       "<style scoped>\n",
       "    .dataframe tbody tr th:only-of-type {\n",
       "        vertical-align: middle;\n",
       "    }\n",
       "\n",
       "    .dataframe tbody tr th {\n",
       "        vertical-align: top;\n",
       "    }\n",
       "\n",
       "    .dataframe thead th {\n",
       "        text-align: right;\n",
       "    }\n",
       "</style>\n",
       "<table border=\"1\" class=\"dataframe\">\n",
       "  <thead>\n",
       "    <tr style=\"text-align: right;\">\n",
       "      <th></th>\n",
       "      <th>Name</th>\n",
       "      <th>Address</th>\n",
       "      <th>Tel</th>\n",
       "    </tr>\n",
       "  </thead>\n",
       "  <tbody>\n",
       "    <tr>\n",
       "      <th>0</th>\n",
       "      <td>삼성봉은사거리점</td>\n",
       "      <td>서울시 강남구 영동대로 607 1,2층</td>\n",
       "      <td>02-3443-5618</td>\n",
       "    </tr>\n",
       "    <tr>\n",
       "      <th>1</th>\n",
       "      <td>코엑스웨스틴서울점</td>\n",
       "      <td>서울시 강남구 봉은사로 524 코엑스 인터컨티넨탈아케이드</td>\n",
       "      <td>02-569-3103</td>\n",
       "    </tr>\n",
       "    <tr>\n",
       "      <th>2</th>\n",
       "      <td>삼성오크우드점</td>\n",
       "      <td>서울 강남구 테헤란로87길 46 지하 2층</td>\n",
       "      <td>02-3466-8507</td>\n",
       "    </tr>\n",
       "    <tr>\n",
       "      <th>3</th>\n",
       "      <td>삼성봉은사로점</td>\n",
       "      <td>서울시 강남구 봉은사로 628 엘슨빌딩1층</td>\n",
       "      <td>02-538-4523</td>\n",
       "    </tr>\n",
       "    <tr>\n",
       "      <th>4</th>\n",
       "      <td>도심공항타워점</td>\n",
       "      <td>서울시 강남구 테헤란로87길 36 공항타워 1층</td>\n",
       "      <td>02-2016-5330</td>\n",
       "    </tr>\n",
       "    <tr>\n",
       "      <th>...</th>\n",
       "      <td>...</td>\n",
       "      <td>...</td>\n",
       "      <td>...</td>\n",
       "    </tr>\n",
       "    <tr>\n",
       "      <th>208</th>\n",
       "      <td>강동경희대병원앞점</td>\n",
       "      <td>서울특별시 강동구 동남로 885 양지빌딩 1층</td>\n",
       "      <td>02-481-9938</td>\n",
       "    </tr>\n",
       "    <tr>\n",
       "      <th>209</th>\n",
       "      <td>새문안로점</td>\n",
       "      <td>서울특별시 종로구 새문안로 91 고려빌딩 1,2층</td>\n",
       "      <td>02-739-5806</td>\n",
       "    </tr>\n",
       "    <tr>\n",
       "      <th>210</th>\n",
       "      <td>광화문역1번출구점</td>\n",
       "      <td>서울시 종로구 새문안로5가길 7 1층 일부</td>\n",
       "      <td>02-723-3360</td>\n",
       "    </tr>\n",
       "    <tr>\n",
       "      <th>211</th>\n",
       "      <td>성균관대법학관점</td>\n",
       "      <td>서울시 종로구 성균관로 25-2 성균관대학교 법학관 B2</td>\n",
       "      <td>02-740-1958</td>\n",
       "    </tr>\n",
       "    <tr>\n",
       "      <th>212</th>\n",
       "      <td>경희궁의아침점</td>\n",
       "      <td>서울시 종로구 새문안로3길 23 경희궁아침상가4단지105외</td>\n",
       "      <td>02-730-8896</td>\n",
       "    </tr>\n",
       "  </tbody>\n",
       "</table>\n",
       "<p>213 rows × 3 columns</p>\n",
       "</div>"
      ],
      "text/plain": [
       "          Name                           Address           Tel\n",
       "0     삼성봉은사거리점             서울시 강남구 영동대로 607 1,2층  02-3443-5618\n",
       "1    코엑스웨스틴서울점   서울시 강남구 봉은사로 524 코엑스 인터컨티넨탈아케이드   02-569-3103\n",
       "2      삼성오크우드점           서울 강남구 테헤란로87길 46 지하 2층  02-3466-8507\n",
       "3      삼성봉은사로점           서울시 강남구 봉은사로 628 엘슨빌딩1층   02-538-4523\n",
       "4      도심공항타워점        서울시 강남구 테헤란로87길 36 공항타워 1층  02-2016-5330\n",
       "..         ...                               ...           ...\n",
       "208  강동경희대병원앞점         서울특별시 강동구 동남로 885 양지빌딩 1층   02-481-9938\n",
       "209      새문안로점       서울특별시 종로구 새문안로 91 고려빌딩 1,2층   02-739-5806\n",
       "210  광화문역1번출구점           서울시 종로구 새문안로5가길 7 1층 일부   02-723-3360\n",
       "211   성균관대법학관점   서울시 종로구 성균관로 25-2 성균관대학교 법학관 B2   02-740-1958\n",
       "212    경희궁의아침점  서울시 종로구 새문안로3길 23 경희궁아침상가4단지105외   02-730-8896\n",
       "\n",
       "[213 rows x 3 columns]"
      ]
     },
     "execution_count": 2,
     "metadata": {},
     "output_type": "execute_result"
    }
   ],
   "source": [
    "df = pd.read_csv('커피빈매장.csv')\n",
    "df"
   ]
  },
  {
   "cell_type": "code",
   "execution_count": null,
   "id": "c6adb70f",
   "metadata": {},
   "outputs": [],
   "source": [
    "import requests\n",
    "\n",
    "def get_location(address):\n",
    "    url='https://dapi.kakao.com/v2/local/search/address.json?query='+address\n",
    "    headers={'Authorization':'KakaoAK 4a8e1acc493134e630bb6e1dd8deb6eb'}\n",
    "    res = requests.get(url, headers=headers).json()\n",
    "    if res['documents']:\n",
    "        x = res['documents'][0]['x']\n",
    "        y = res['documents'][0]['y']\n",
    "    else:\n",
    "        pass\n",
    "    return x, y\n"
   ]
  },
  {
   "cell_type": "code",
   "execution_count": 7,
   "id": "3bcf59d6",
   "metadata": {},
   "outputs": [
    {
     "data": {
      "text/plain": [
       "{'address': {'address_name': '서울 강남구 삼성동 77-11',\n",
       "  'b_code': '1168010500',\n",
       "  'h_code': '1168058000',\n",
       "  'main_address_no': '77',\n",
       "  'mountain_yn': 'N',\n",
       "  'region_1depth_name': '서울',\n",
       "  'region_2depth_name': '강남구',\n",
       "  'region_3depth_h_name': '삼성1동',\n",
       "  'region_3depth_name': '삼성동',\n",
       "  'sub_address_no': '11',\n",
       "  'x': '127.059486615422',\n",
       "  'y': '37.5145473024381'},\n",
       " 'address_name': '서울 강남구 영동대로 607',\n",
       " 'address_type': 'ROAD_ADDR',\n",
       " 'road_address': {'address_name': '서울 강남구 영동대로 607',\n",
       "  'building_name': '랜드마크빌딩',\n",
       "  'main_building_no': '607',\n",
       "  'region_1depth_name': '서울',\n",
       "  'region_2depth_name': '강남구',\n",
       "  'region_3depth_name': '삼성동',\n",
       "  'road_name': '영동대로',\n",
       "  'sub_building_no': '',\n",
       "  'underground_yn': 'N',\n",
       "  'x': '127.059486615422',\n",
       "  'y': '37.5145473024381',\n",
       "  'zone_no': '06087'},\n",
       " 'x': '127.059486615422',\n",
       " 'y': '37.5145473024381'}"
      ]
     },
     "execution_count": 7,
     "metadata": {},
     "output_type": "execute_result"
    }
   ],
   "source": [
    "res=get_location('서울시 강남구 영동대로 607')\n",
    "res"
   ]
  },
  {
   "cell_type": "code",
   "execution_count": null,
   "id": "b0dafce0",
   "metadata": {},
   "outputs": [],
   "source": []
  },
  {
   "cell_type": "code",
   "execution_count": null,
   "id": "0ceb6ce6",
   "metadata": {},
   "outputs": [],
   "source": []
  },
  {
   "cell_type": "code",
   "execution_count": null,
   "id": "45986c57",
   "metadata": {},
   "outputs": [],
   "source": []
  },
  {
   "cell_type": "code",
   "execution_count": null,
   "id": "0223112e",
   "metadata": {},
   "outputs": [],
   "source": []
  }
 ],
 "metadata": {
  "kernelspec": {
   "display_name": "Python 3",
   "language": "python",
   "name": "python3"
  },
  "language_info": {
   "codemirror_mode": {
    "name": "ipython",
    "version": 3
   },
   "file_extension": ".py",
   "mimetype": "text/x-python",
   "name": "python",
   "nbconvert_exporter": "python",
   "pygments_lexer": "ipython3",
   "version": "3.10.10"
  }
 },
 "nbformat": 4,
 "nbformat_minor": 5
}
